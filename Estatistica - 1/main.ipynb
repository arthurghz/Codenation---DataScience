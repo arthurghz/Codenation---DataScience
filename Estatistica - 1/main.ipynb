{
 "cells": [
  {
   "cell_type": "markdown",
   "metadata": {},
   "source": [
    "# Desafio \n",
    "\n",
    "Conhecendo melhor nossa base de consumidores: qual estado possui os clientes com melhores pontuações de crédito?"
   ]
  },
  {
   "cell_type": "code",
   "execution_count": 1,
   "metadata": {},
   "outputs": [],
   "source": [
    "import pandas as pd \n",
    "import seaborn as sns\n",
    "import json \n",
    "import numpy as numpy"
   ]
  },
  {
   "cell_type": "code",
   "execution_count": 2,
   "metadata": {},
   "outputs": [],
   "source": [
    "df = pd.read_csv(\"desafio1.csv\")"
   ]
  },
  {
   "cell_type": "markdown",
   "metadata": {},
   "source": [
    "## Abre arquivo"
   ]
  },
  {
   "cell_type": "code",
   "execution_count": 3,
   "metadata": {},
   "outputs": [],
   "source": [
    "with open(r\"submission.json\",\"r+\") as json_file:\n",
    "    data = json.load(json_file)"
   ]
  },
  {
   "cell_type": "markdown",
   "metadata": {},
   "source": [
    "## Desvio padrão dos estados"
   ]
  },
  {
   "cell_type": "code",
   "execution_count": 4,
   "metadata": {
    "scrolled": true
   },
   "outputs": [],
   "source": [
    "desvio = df.groupby('estado_residencia')['pontuacao_credito'].std().reset_index()\n",
    "for x in desvio.index:\n",
    "    estado = desvio['estado_residencia'][x]\n",
    "    valor  = desvio['pontuacao_credito'][x]\n",
    "    data[estado]['desvio_padrao']=valor"
   ]
  },
  {
   "cell_type": "markdown",
   "metadata": {},
   "source": [
    "## Mediana dos Estados"
   ]
  },
  {
   "cell_type": "code",
   "execution_count": 5,
   "metadata": {},
   "outputs": [],
   "source": [
    "mediana = df.groupby('estado_residencia')['pontuacao_credito'].median().reset_index()\n",
    "for x in mediana.index:\n",
    "    estado = mediana['estado_residencia'][x]\n",
    "    valor  = mediana['pontuacao_credito'][x]\n",
    "    data[estado]['mediana']=valor"
   ]
  },
  {
   "cell_type": "markdown",
   "metadata": {},
   "source": [
    "## Media dos Estados"
   ]
  },
  {
   "cell_type": "code",
   "execution_count": 6,
   "metadata": {},
   "outputs": [],
   "source": [
    "media = df.groupby('estado_residencia')['pontuacao_credito'].mean().reset_index()\n",
    "for x in mediana.index:\n",
    "    estado = media['estado_residencia'][x]\n",
    "    valor  = media['pontuacao_credito'][x]\n",
    "    data[estado]['media']=valor"
   ]
  },
  {
   "cell_type": "markdown",
   "metadata": {},
   "source": [
    "## Moda dos Estados"
   ]
  },
  {
   "cell_type": "code",
   "execution_count": 7,
   "metadata": {},
   "outputs": [],
   "source": [
    "moda = df.groupby('estado_residencia')['pontuacao_credito'].agg(pd.Series.mode).reset_index()\n",
    "for x in mediana.index:\n",
    "    estado = moda['estado_residencia'][x]\n",
    "    valor  = moda['pontuacao_credito'][x]\n",
    "    data[estado]['moda']=valor"
   ]
  },
  {
   "cell_type": "markdown",
   "metadata": {},
   "source": [
    "## Convert os dados corretamente "
   ]
  },
  {
   "cell_type": "code",
   "execution_count": 8,
   "metadata": {},
   "outputs": [],
   "source": [
    "class NumpyEncoder(json.JSONEncoder):\n",
    "    \"\"\" Special json encoder for numpy types \"\"\"\n",
    "    def default(self, obj):\n",
    "        if isinstance(obj, (numpy.int_, numpy.intc, numpy.intp, numpy.int8,\n",
    "                            numpy.int16, numpy.int32, numpy.int64, numpy.uint8,\n",
    "                            numpy.uint16, numpy.uint32, numpy.uint64)):\n",
    "            return int(obj)\n",
    "        elif isinstance(obj, (numpy.float_, numpy.float16, numpy.float32,\n",
    "                              numpy.float64)):\n",
    "            return float(obj)\n",
    "        elif isinstance(obj, (numpy.ndarray,)):\n",
    "            return obj.tolist()\n",
    "        return json.JSONEncoder.default(self, obj)\n",
    "    \n",
    "data = json.dumps(data,cls=NumpyEncoder)\n",
    "\n"
   ]
  },
  {
   "cell_type": "markdown",
   "metadata": {},
   "source": [
    "## Arquivo  - Final para resposta"
   ]
  },
  {
   "cell_type": "code",
   "execution_count": 9,
   "metadata": {},
   "outputs": [],
   "source": [
    "with open(r\"submission.json\",\"w+\") as json_file:\n",
    "    json.dump(json.loads(data),json_file,indent=0)"
   ]
  },
  {
   "cell_type": "code",
   "execution_count": null,
   "metadata": {},
   "outputs": [],
   "source": []
  }
 ],
 "metadata": {
  "kernelspec": {
   "display_name": "Python 3",
   "language": "python",
   "name": "python3"
  },
  "language_info": {
   "codemirror_mode": {
    "name": "ipython",
    "version": 3
   },
   "file_extension": ".py",
   "mimetype": "text/x-python",
   "name": "python",
   "nbconvert_exporter": "python",
   "pygments_lexer": "ipython3",
   "version": "3.7.6"
  }
 },
 "nbformat": 4,
 "nbformat_minor": 4
}
